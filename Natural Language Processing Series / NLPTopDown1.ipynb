{
  "nbformat": 4,
  "nbformat_minor": 0,
  "metadata": {
    "colab": {
      "name": "NLPTopDown1.ipynb",
      "provenance": [],
      "collapsed_sections": [],
      "authorship_tag": "ABX9TyO/IRKE18+sZ+URvAxjgRFF",
      "include_colab_link": true
    },
    "kernelspec": {
      "name": "python3",
      "display_name": "Python 3"
    },
    "language_info": {
      "name": "python"
    }
  },
  "cells": [
    {
      "cell_type": "markdown",
      "metadata": {
        "id": "view-in-github",
        "colab_type": "text"
      },
      "source": [
        "<a href=\"https://colab.research.google.com/github/kunal077/Natural-Language-Processing/blob/main/Natural%20Language%20Processing%20Series%20/%20NLPTopDown1.ipynb\" target=\"_parent\"><img src=\"https://colab.research.google.com/assets/colab-badge.svg\" alt=\"Open In Colab\"/></a>"
      ]
    },
    {
      "cell_type": "markdown",
      "metadata": {
        "id": "5kfc-39IgObh"
      },
      "source": [
        "# Natural Language Processing\n",
        "\n",
        "\n",
        "---\n",
        "\n",
        "\n",
        "1.   Part of speech taggin\n",
        "2.   Entity Recognition\n",
        "3.   Question Answering\n",
        "4.   Sentiment Classification\n",
        "5.   Languge Modelling \n",
        "6.   Topic Modelling\n",
        "\n",
        "\n",
        "\n",
        "---\n",
        "\n",
        "Presently Deep Learning is being used for NLP mostly. \n",
        "\n",
        "\n",
        "\n",
        "\n",
        "\n",
        "\n"
      ]
    },
    {
      "cell_type": "markdown",
      "metadata": {
        "id": "B55sIdcR6nUg"
      },
      "source": [
        "Norvig vs Chomsky Classification\n",
        "\n",
        "1. Modelling the underlying mechanism of a phenomena\n",
        "2. Using Machine Learning to predict outputs (withou understanding the mechanisms that create them)\n"
      ]
    },
    {
      "cell_type": "markdown",
      "metadata": {
        "id": "WxGVbjLP6piB"
      },
      "source": [
        "\n",
        "\n",
        "---\n",
        "\n",
        "\n",
        "Some of the popular Python libraries\n",
        "\n",
        "1. NLTK\n",
        "2. spaCy\n",
        "3. gensim\n",
        "\n",
        "Specialised Tool\n",
        "1. PyText\n",
        "2. fastText\n",
        "\n",
        "General \n",
        "1. sklearn\n",
        "2. FastAi\n",
        "\n",
        "\n",
        "---\n",
        "\n"
      ]
    },
    {
      "cell_type": "markdown",
      "metadata": {
        "id": "hB6HodL67QXA"
      },
      "source": [
        "\n",
        "Most Popular Topics \n",
        "\n",
        "1. NLP Tools\n",
        "2. Regex\n",
        "3. Tokenization\n",
        "4. Word Embeddings\n",
        "5. Linear Algebra/Matrix Decomposition\n",
        "6. Hidden Markov Models\n",
        "7. Parse Trees\n",
        "\n",
        "\n",
        "---\n",
        "\n",
        "\n"
      ]
    }
  ]
}